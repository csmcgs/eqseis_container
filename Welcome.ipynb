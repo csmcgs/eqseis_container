{
 "cells": [
  {
   "cell_type": "markdown",
   "id": "04c2ceff-c334-453f-a841-eecf7ad8ee2c",
   "metadata": {},
   "source": [
    "# Hi!\n",
    "\n",
    "You can download the exercise notebooks by executing the next cell and open the index page by clicking the link or navigating to it using the left pane.\n",
    "\n",
    "**Jupyter Quick Tips:**\n",
    "\n",
    "- **Run cells** one-by-one by hitting the $\\blacktriangleright$ button at the top, or by hitting `Shift + Enter`\n",
    "- **Run all cells** by hitting the $\\blacktriangleright\\blacktriangleright$ button at the top, or by running `Run -> Run All Cells`\n",
    "- **Currently running cells** that are still processing will have a `[*]` symbol next to them\n",
    "- **Finished cells** will have a `[1]` symbol next to them. The number inside the brackets represents what order this cell has been run in.\n",
    "- Commands that start with `!` are Bash commands (i.e., commands you would run from the terminal)\n",
    "- Commands that start with `%` are Jupyter Magic commands.\n",
    "\n",
    "To download the notebooks execute the next cell using $\\blacktriangleright$ button or by hitting `Shift + Enter`."
   ]
  },
  {
   "cell_type": "code",
   "execution_count": null,
   "id": "ba68da42-c3e6-4b4b-b9ea-7b8e25a73569",
   "metadata": {},
   "outputs": [],
   "source": [
    "! cd /notebooks\n",
    "! git clone https://github.com/csmcgs/eqseis_data_processing.git"
   ]
  },
  {
   "cell_type": "markdown",
   "id": "b9ff45dc-acff-4d0f-8fc6-ef778a92d279",
   "metadata": {},
   "source": [
    "Now you can open the notebooks:\n",
    "\n",
    "[Open Notebook Index](eqseis_data_processing/Index.ipynb)"
   ]
  }
 ],
 "metadata": {
  "kernelspec": {
   "display_name": "Python 3 (ipykernel)",
   "language": "python",
   "name": "python3"
  },
  "language_info": {
   "codemirror_mode": {
    "name": "ipython",
    "version": 3
   },
   "file_extension": ".py",
   "mimetype": "text/x-python",
   "name": "python",
   "nbconvert_exporter": "python",
   "pygments_lexer": "ipython3",
   "version": "3.10.8"
  }
 },
 "nbformat": 4,
 "nbformat_minor": 5
}
